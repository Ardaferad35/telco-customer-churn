{
 "cells": [
  {
   "cell_type": "markdown",
   "id": "245cde64-fb77-4fa6-b32c-ea22814120b4",
   "metadata": {},
   "source": [
    "## Predicting telco customer churn using machine learning\n",
    "\n",
    "This notebook looks into using various Python-based machine learning and data science libraries in an attempt to build a machine learning model capable of predicting whether or not a customer will churn (leave the company) based on their demographic, service usage, and billing information.\n",
    "\n",
    "We're going to take the following approach:\n",
    "\n",
    "1. Problem Definition\n",
    "2. Data Understanding\n",
    "3. Exploratory Data Analysis(EDA)\n",
    "4. Data preprocessing\n",
    "5. Modeling\n",
    "6. Evaluation\n",
    "7. Experimentation & Hyperparameter Tuning\n",
    "8. Conclusion & Insights"
   ]
  },
  {
   "cell_type": "markdown",
   "id": "84f1805c-4d42-4adc-80aa-485ff518d1d7",
   "metadata": {},
   "source": [
    "## 0.Data Overview\n",
    "\n",
    "- Source: [Kaggle Telco Customer Churn Dataset](https://www.kaggle.com/datasets/mosapabdelghany/telcom-customer-churn-dataset)\n",
    "- 7043 rows, 21 columns\n",
    "- Features include demographics, services, billing, and churn status\n",
    "\n",
    "### Create data dictionary\n",
    "\n",
    "- **CustomerID**: Unique identifier  \n",
    "- **Gender**: Male/Female  \n",
    "- **SeniorCitizen**: 0 = No, 1 = Yes  \n",
    "- **Partner**: Yes/No  \n",
    "- **Dependents**: Yes/No  \n",
    "- **Tenure**: Number of months with the company  \n",
    "- **PhoneService**: Yes/No  \n",
    "- **MultipleLines**: Yes/No/No phone service  \n",
    "- **InternetService**: DSL/Fiber optic/No  \n",
    "- **OnlineSecurity, OnlineBackup, DeviceProtection, TechSupport, StreamingTV, StreamingMovies**: Yes/No/No internet service  \n",
    "- **Contract**: Month-to-month/One year/Two year  \n",
    "- **PaperlessBilling**: Yes/No  \n",
    "- **PaymentMethod**: Electronic check/Mailed check/Bank transfer/Credit card  \n",
    "- **MonthlyCharges**: Amount billed monthly  \n",
    "- **TotalCharges**: Lifetime total charges  \n",
    "- **Churn**: Yes/No"
   ]
  },
  {
   "cell_type": "markdown",
   "id": "ffc0b454-5bd9-41e7-b266-5c9d20ccbf05",
   "metadata": {},
   "source": [
    "## 1.Problem Definition\n",
    "\n",
    "The goal of this project is to use this customer data to develop a machine learning model capable of predicting which customers are likely to churn. This enables companies to implement strategies targeting high-risk customers."
   ]
  },
  {
   "cell_type": "code",
   "execution_count": null,
   "id": "508ece49-e1cf-4b40-bd96-cc4c09c9dea2",
   "metadata": {},
   "outputs": [],
   "source": []
  }
 ],
 "metadata": {
  "kernelspec": {
   "display_name": "Python 3 (ipykernel)",
   "language": "python",
   "name": "python3"
  },
  "language_info": {
   "codemirror_mode": {
    "name": "ipython",
    "version": 3
   },
   "file_extension": ".py",
   "mimetype": "text/x-python",
   "name": "python",
   "nbconvert_exporter": "python",
   "pygments_lexer": "ipython3",
   "version": "3.13.5"
  }
 },
 "nbformat": 4,
 "nbformat_minor": 5
}
